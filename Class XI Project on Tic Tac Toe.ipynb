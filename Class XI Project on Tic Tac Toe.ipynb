{
 "cells": [
  {
   "cell_type": "markdown",
   "metadata": {},
   "source": [
    "# Project on Python Class XI (Game)-Tic Tac Toe"
   ]
  },
  {
   "cell_type": "code",
   "execution_count": 1,
   "metadata": {},
   "outputs": [],
   "source": [
    "def display_board():  # showing board \n",
    "    print(l[0]+'|'+l[1]+'|'+l[2])\n",
    "    print(l[3]+'|'+l[4]+'|'+l[5])\n",
    "    print(l[6]+'|'+l[7]+'|'+l[8])"
   ]
  },
  {
   "cell_type": "code",
   "execution_count": 2,
   "metadata": {},
   "outputs": [],
   "source": [
    "def player_move():\n",
    "    \n",
    "    while True:#loop checks valid location and if it is empty\n",
    "        ch=int(input(\"choose location from 1 to 9: \"))\n",
    "        if (ch>=1 and ch<=9) :\n",
    "            if l[ch-1]!='-':\n",
    "                print(\"its already occupied, pick another location\")\n",
    "            else:\n",
    "                break\n",
    "        else:\n",
    "            print(\"enter again not a valid location\")\n",
    "    l[ch-1]=symbol         # place symbol at that location\n",
    "    display_board()        #  show board\n"
   ]
  },
  {
   "cell_type": "code",
   "execution_count": 3,
   "metadata": {},
   "outputs": [],
   "source": [
    "def change_player(): # change player and its symbol\n",
    "    global player  # global keyword allows to make changes in the global variable\n",
    "    global symbol\n",
    "    if player==1:\n",
    "        player=2\n",
    "        symbol='O'\n",
    "    else:\n",
    "        player=1\n",
    "        symbol='X'"
   ]
  },
  {
   "cell_type": "code",
   "execution_count": 4,
   "metadata": {},
   "outputs": [],
   "source": [
    "def chk_win():\n",
    "    if l[0]==l[4]==l[8]==symbol or l[2]==l[4]==l[6]==symbol:#checking diagonals\n",
    "        return True\n",
    "    elif l[0]==l[1]==l[2]==symbol or l[3]==l[4]==l[5]==symbol or l[6]==l[7]==l[8]==symbol: #checking rows\n",
    "        return True\n",
    "    elif l[0]==l[3]==l[6]==symbol or l[1]==l[4]==l[7]==symbol or l[2]==l[5]==l[8]==symbol:#checking columns\n",
    "        return True\n",
    "    else:\n",
    "        return False"
   ]
  },
  {
   "cell_type": "code",
   "execution_count": 6,
   "metadata": {},
   "outputs": [
    {
     "name": "stdout",
     "output_type": "stream",
     "text": [
      "-|-|-\n",
      "-|-|-\n",
      "-|-|-\n",
      "choose location from 1 to 9: 1\n",
      "X|-|-\n",
      "-|-|-\n",
      "-|-|-\n",
      "choose location from 1 to 9: 2\n",
      "X|O|-\n",
      "-|-|-\n",
      "-|-|-\n",
      "choose location from 1 to 9: 3\n",
      "X|O|X\n",
      "-|-|-\n",
      "-|-|-\n",
      "choose location from 1 to 9: 5\n",
      "X|O|X\n",
      "-|O|-\n",
      "-|-|-\n",
      "choose location from 1 to 9: 6\n",
      "X|O|X\n",
      "-|O|X\n",
      "-|-|-\n",
      "choose location from 1 to 9: 7\n",
      "X|O|X\n",
      "-|O|X\n",
      "O|-|-\n",
      "choose location from 1 to 9: 8\n",
      "X|O|X\n",
      "-|O|X\n",
      "O|X|-\n",
      "choose location from 1 to 9: 9\n",
      "X|O|X\n",
      "-|O|X\n",
      "O|X|O\n",
      "choose location from 1 to 9: 4\n",
      "X|O|X\n",
      "X|O|X\n",
      "O|X|O\n",
      "Its a draw\n"
     ]
    }
   ],
   "source": [
    "l=['-','-','-','-','-','-','-','-','-']\n",
    "chance=True\n",
    "player=1\n",
    "symbol='X'\n",
    "display_board()\n",
    "while True: # infinite loop\n",
    "    player_move() # player move\n",
    "    if chk_win(): # after player move, check win or draw\n",
    "        print(\"player {} has won\".format(player))\n",
    "        break\n",
    "    else:\n",
    "        if '-' not in l:\n",
    "            print(\"Its a draw\")\n",
    "            break\n",
    "    change_player() # if neither win or draw then change player\n",
    "  "
   ]
  },
  {
   "cell_type": "code",
   "execution_count": null,
   "metadata": {},
   "outputs": [],
   "source": []
  }
 ],
 "metadata": {
  "kernelspec": {
   "display_name": "Python 3",
   "language": "python",
   "name": "python3"
  },
  "language_info": {
   "codemirror_mode": {
    "name": "ipython",
    "version": 3
   },
   "file_extension": ".py",
   "mimetype": "text/x-python",
   "name": "python",
   "nbconvert_exporter": "python",
   "pygments_lexer": "ipython3",
   "version": "3.7.3"
  }
 },
 "nbformat": 4,
 "nbformat_minor": 2
}
